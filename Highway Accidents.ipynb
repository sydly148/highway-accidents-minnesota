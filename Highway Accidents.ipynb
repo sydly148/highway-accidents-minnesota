{
 "cells": [
  {
   "cell_type": "markdown",
   "metadata": {},
   "source": [
    "# Analysis of CA School Testing Data\n",
    "by Sydney Ly"
   ]
  },
  {
   "cell_type": "code",
   "execution_count": 1,
   "metadata": {},
   "outputs": [],
   "source": [
    "from datascience import *\n",
    "import numpy as np\n",
    "Table.interactive_plots()"
   ]
  },
  {
   "cell_type": "code",
   "execution_count": 2,
   "metadata": {},
   "outputs": [],
   "source": [
    "accidents = Table.read_table('data/Highway1.csv')"
   ]
  },
  {
   "cell_type": "code",
   "execution_count": 3,
   "metadata": {},
   "outputs": [
    {
     "data": {
      "text/html": [
       "<table border=\"1\" class=\"dataframe\">\n",
       "    <thead>\n",
       "        <tr>\n",
       "            <th>Unnamed: 0</th> <th>rate</th> <th>len</th> <th>adt</th> <th>trks</th> <th>sigs1</th> <th>slim</th> <th>shld</th> <th>lane</th> <th>acpt</th> <th>itg</th> <th>lwid</th> <th>htype</th>\n",
       "        </tr>\n",
       "    </thead>\n",
       "    <tbody>\n",
       "        <tr>\n",
       "            <td>1         </td> <td>4.58</td> <td>4.99 </td> <td>69  </td> <td>8   </td> <td>0.200401 </td> <td>55  </td> <td>10  </td> <td>8   </td> <td>4.6 </td> <td>1.2 </td> <td>12  </td> <td>FAI  </td>\n",
       "        </tr>\n",
       "        <tr>\n",
       "            <td>2         </td> <td>2.86</td> <td>16.11</td> <td>73  </td> <td>8   </td> <td>0.0620732</td> <td>60  </td> <td>10  </td> <td>4   </td> <td>4.4 </td> <td>1.43</td> <td>12  </td> <td>FAI  </td>\n",
       "        </tr>\n",
       "        <tr>\n",
       "            <td>3         </td> <td>3.02</td> <td>9.75 </td> <td>49  </td> <td>10  </td> <td>0.102564 </td> <td>60  </td> <td>10  </td> <td>4   </td> <td>4.7 </td> <td>1.54</td> <td>12  </td> <td>FAI  </td>\n",
       "        </tr>\n",
       "        <tr>\n",
       "            <td>4         </td> <td>2.29</td> <td>10.65</td> <td>61  </td> <td>13  </td> <td>0.0938967</td> <td>65  </td> <td>10  </td> <td>6   </td> <td>3.8 </td> <td>0.94</td> <td>12  </td> <td>FAI  </td>\n",
       "        </tr>\n",
       "        <tr>\n",
       "            <td>5         </td> <td>1.61</td> <td>20.01</td> <td>28  </td> <td>12  </td> <td>0.049975 </td> <td>70  </td> <td>10  </td> <td>4   </td> <td>2.2 </td> <td>0.65</td> <td>12  </td> <td>FAI  </td>\n",
       "        </tr>\n",
       "        <tr>\n",
       "            <td>6         </td> <td>6.87</td> <td>5.97 </td> <td>30  </td> <td>6   </td> <td>2.0075   </td> <td>55  </td> <td>10  </td> <td>4   </td> <td>24.8</td> <td>0.34</td> <td>12  </td> <td>PA   </td>\n",
       "        </tr>\n",
       "        <tr>\n",
       "            <td>7         </td> <td>3.85</td> <td>8.57 </td> <td>46  </td> <td>8   </td> <td>0.816686 </td> <td>55  </td> <td>8   </td> <td>4   </td> <td>11  </td> <td>0.47</td> <td>12  </td> <td>PA   </td>\n",
       "        </tr>\n",
       "        <tr>\n",
       "            <td>8         </td> <td>6.12</td> <td>5.24 </td> <td>25  </td> <td>9   </td> <td>0.57084  </td> <td>55  </td> <td>10  </td> <td>4   </td> <td>18.5</td> <td>0.38</td> <td>12  </td> <td>PA   </td>\n",
       "        </tr>\n",
       "        <tr>\n",
       "            <td>9         </td> <td>3.29</td> <td>15.79</td> <td>43  </td> <td>12  </td> <td>1.45333  </td> <td>50  </td> <td>4   </td> <td>4   </td> <td>7.5 </td> <td>0.95</td> <td>12  </td> <td>PA   </td>\n",
       "        </tr>\n",
       "        <tr>\n",
       "            <td>10        </td> <td>5.88</td> <td>8.26 </td> <td>23  </td> <td>7   </td> <td>1.33107  </td> <td>50  </td> <td>5   </td> <td>4   </td> <td>8.2 </td> <td>0.12</td> <td>12  </td> <td>PA   </td>\n",
       "        </tr>\n",
       "    </tbody>\n",
       "</table>\n",
       "<p>... (29 rows omitted)</p>"
      ],
      "text/plain": [
       "Unnamed: 0 | rate | len   | adt  | trks | sigs1     | slim | shld | lane | acpt | itg  | lwid | htype\n",
       "1          | 4.58 | 4.99  | 69   | 8    | 0.200401  | 55   | 10   | 8    | 4.6  | 1.2  | 12   | FAI\n",
       "2          | 2.86 | 16.11 | 73   | 8    | 0.0620732 | 60   | 10   | 4    | 4.4  | 1.43 | 12   | FAI\n",
       "3          | 3.02 | 9.75  | 49   | 10   | 0.102564  | 60   | 10   | 4    | 4.7  | 1.54 | 12   | FAI\n",
       "4          | 2.29 | 10.65 | 61   | 13   | 0.0938967 | 65   | 10   | 6    | 3.8  | 0.94 | 12   | FAI\n",
       "5          | 1.61 | 20.01 | 28   | 12   | 0.049975  | 70   | 10   | 4    | 2.2  | 0.65 | 12   | FAI\n",
       "6          | 6.87 | 5.97  | 30   | 6    | 2.0075    | 55   | 10   | 4    | 24.8 | 0.34 | 12   | PA\n",
       "7          | 3.85 | 8.57  | 46   | 8    | 0.816686  | 55   | 8    | 4    | 11   | 0.47 | 12   | PA\n",
       "8          | 6.12 | 5.24  | 25   | 9    | 0.57084   | 55   | 10   | 4    | 18.5 | 0.38 | 12   | PA\n",
       "9          | 3.29 | 15.79 | 43   | 12   | 1.45333   | 50   | 4    | 4    | 7.5  | 0.95 | 12   | PA\n",
       "10         | 5.88 | 8.26  | 23   | 7    | 1.33107   | 50   | 5    | 4    | 8.2  | 0.12 | 12   | PA\n",
       "... (29 rows omitted)"
      ]
     },
     "execution_count": 3,
     "metadata": {},
     "output_type": "execute_result"
    }
   ],
   "source": [
    "accidents"
   ]
  },
  {
   "cell_type": "code",
   "execution_count": 4,
   "metadata": {},
   "outputs": [],
   "source": [
    "accidents2 = accidents.relabeled('slim', 'Speed Limit') \\\n",
    "                      .scatter('adt', 'rate', group = 'Speed Limit', s = 40,\n",
    "                               xaxis_title = 'Average Daily Traffic Count (in Thousands)',\n",
    "                               yaxis_title = 'Accident Rate per Million Vehicle Miles',\n",
    "                               title = 'Traffic Accident Rate vs. Average Daily Traffic in Minnesota',\n",
    "                               show = False)"
   ]
  },
  {
   "cell_type": "code",
   "execution_count": 5,
   "metadata": {
    "scrolled": true
   },
   "outputs": [
    {
     "name": "stdout",
     "output_type": "stream",
     "text": [
      "<div>                            <div id=\"4161fdbf-ed30-4fec-b539-5db1b172502f\" class=\"plotly-graph-div\" style=\"height:100%; width:100%;\"></div>            <script type=\"text/javascript\">                                    window.PLOTLYENV=window.PLOTLYENV || {};                                    if (document.getElementById(\"4161fdbf-ed30-4fec-b539-5db1b172502f\")) {                    Plotly.newPlot(                        \"4161fdbf-ed30-4fec-b539-5db1b172502f\",                        [{\"marker\": {\"color\": \"rgb(0,30,66)\", \"size\": 10.0}, \"mode\": \"markers\", \"name\": \"Speed Limit=65\", \"showlegend\": true, \"textfont\": {\"color\": \"rgb(0,30,66)\"}, \"textposition\": \"bottom center\", \"type\": \"scatter\", \"x\": [61], \"xaxis\": \"x\", \"y\": [2.29], \"yaxis\": \"y\"}, {\"marker\": {\"color\": \"rgb(256,200,44)\", \"size\": 10.0}, \"mode\": \"markers\", \"name\": \"Speed Limit=70\", \"showlegend\": true, \"textfont\": {\"color\": \"rgb(0,30,66)\"}, \"textposition\": \"bottom center\", \"type\": \"scatter\", \"x\": [28], \"xaxis\": \"x\", \"y\": [1.61], \"yaxis\": \"y\"}, {\"marker\": {\"color\": \"rgb(0,150,207)\", \"size\": 10.0}, \"mode\": \"markers\", \"name\": \"Speed Limit=40\", \"showlegend\": true, \"textfont\": {\"color\": \"rgb(0,30,66)\"}, \"textposition\": \"bottom center\", \"type\": \"scatter\", \"x\": [23], \"xaxis\": \"x\", \"y\": [9.23], \"yaxis\": \"y\"}, {\"marker\": {\"color\": \"rgb(30,100,0)\", \"size\": 10.0}, \"mode\": \"markers\", \"name\": \"Speed Limit=45\", \"showlegend\": true, \"textfont\": {\"color\": \"rgb(0,30,66)\"}, \"textposition\": \"bottom center\", \"type\": \"scatter\", \"x\": [13, 12, 4], \"xaxis\": \"x\", \"y\": [8.6, 7.48, 5.77], \"yaxis\": \"y\"}, {\"marker\": {\"color\": \"rgb(172,60,72)\", \"size\": 10.0}, \"mode\": \"markers\", \"name\": \"Speed Limit=50\", \"showlegend\": true, \"textfont\": {\"color\": \"rgb(0,30,66)\"}, \"textposition\": \"bottom center\", \"type\": \"scatter\", \"x\": [43, 23, 20, 18, 9, 5, 3], \"xaxis\": \"x\", \"y\": [3.29, 5.88, 4.61, 4.8, 4.22, 2.83, 2.76], \"yaxis\": \"y\"}, {\"marker\": {\"color\": \"rgb(89,104,122)\", \"size\": 10.0}, \"mode\": \"markers\", \"name\": \"Speed Limit=55\", \"showlegend\": true, \"textfont\": {\"color\": \"rgb(0,30,66)\"}, \"textposition\": \"bottom center\", \"type\": \"scatter\", \"x\": [69, 30, 46, 25, 27, 12, 15, 7, 10, 5, 4, 5, 2, 1, 1], \"xaxis\": \"x\", \"y\": [4.58, 6.87, 3.85, 6.12, 2.69, 2.76, 1.89, 8.21, 2.93, 2.9, 2.97, 1.84, 3.78, 4.27, 4.12], \"yaxis\": \"y\"}, {\"marker\": {\"color\": \"rgb(217,189,111)\", \"size\": 10.0}, \"mode\": \"markers\", \"name\": \"Speed Limit=60\", \"showlegend\": true, \"textfont\": {\"color\": \"rgb(0,30,66)\"}, \"textposition\": \"bottom center\", \"type\": \"scatter\", \"x\": [73, 49, 23, 21, 22, 19, 12, 8, 5, 9, 3], \"xaxis\": \"x\", \"y\": [2.86, 3.02, 4.2, 3.85, 1.99, 2.01, 2.55, 2.34, 1.81, 2.57, 3.05], \"yaxis\": \"y\"}],                        {\"annotations\": [{\"font\": {\"size\": 16}, \"showarrow\": false, \"text\": \"adt\", \"x\": 0.5, \"xanchor\": \"center\", \"xref\": \"paper\", \"y\": 0, \"yanchor\": \"top\", \"yref\": \"paper\", \"yshift\": -30}], \"showlegend\": true, \"template\": {\"data\": {\"bar\": [{\"error_x\": {\"color\": \"#2a3f5f\"}, \"error_y\": {\"color\": \"#2a3f5f\"}, \"marker\": {\"line\": {\"color\": \"#E5ECF6\", \"width\": 0.5}}, \"type\": \"bar\"}], \"barpolar\": [{\"marker\": {\"line\": {\"color\": \"#E5ECF6\", \"width\": 0.5}}, \"type\": \"barpolar\"}], \"carpet\": [{\"aaxis\": {\"endlinecolor\": \"#2a3f5f\", \"gridcolor\": \"white\", \"linecolor\": \"white\", \"minorgridcolor\": \"white\", \"startlinecolor\": \"#2a3f5f\"}, \"baxis\": {\"endlinecolor\": \"#2a3f5f\", \"gridcolor\": \"white\", \"linecolor\": \"white\", \"minorgridcolor\": \"white\", \"startlinecolor\": \"#2a3f5f\"}, \"type\": \"carpet\"}], \"choropleth\": [{\"colorbar\": {\"outlinewidth\": 0, \"ticks\": \"\"}, \"type\": \"choropleth\"}], \"contour\": [{\"colorbar\": {\"outlinewidth\": 0, \"ticks\": \"\"}, \"colorscale\": [[0.0, \"#0d0887\"], [0.1111111111111111, \"#46039f\"], [0.2222222222222222, \"#7201a8\"], [0.3333333333333333, \"#9c179e\"], [0.4444444444444444, \"#bd3786\"], [0.5555555555555556, \"#d8576b\"], [0.6666666666666666, \"#ed7953\"], [0.7777777777777778, \"#fb9f3a\"], [0.8888888888888888, \"#fdca26\"], [1.0, \"#f0f921\"]], \"type\": \"contour\"}], \"contourcarpet\": [{\"colorbar\": {\"outlinewidth\": 0, \"ticks\": \"\"}, \"type\": \"contourcarpet\"}], \"heatmap\": [{\"colorbar\": {\"outlinewidth\": 0, \"ticks\": \"\"}, \"colorscale\": [[0.0, \"#0d0887\"], [0.1111111111111111, \"#46039f\"], [0.2222222222222222, \"#7201a8\"], [0.3333333333333333, \"#9c179e\"], [0.4444444444444444, \"#bd3786\"], [0.5555555555555556, \"#d8576b\"], [0.6666666666666666, \"#ed7953\"], [0.7777777777777778, \"#fb9f3a\"], [0.8888888888888888, \"#fdca26\"], [1.0, \"#f0f921\"]], \"type\": \"heatmap\"}], \"heatmapgl\": [{\"colorbar\": {\"outlinewidth\": 0, \"ticks\": \"\"}, \"colorscale\": [[0.0, \"#0d0887\"], [0.1111111111111111, \"#46039f\"], [0.2222222222222222, \"#7201a8\"], [0.3333333333333333, \"#9c179e\"], [0.4444444444444444, \"#bd3786\"], [0.5555555555555556, \"#d8576b\"], [0.6666666666666666, \"#ed7953\"], [0.7777777777777778, \"#fb9f3a\"], [0.8888888888888888, \"#fdca26\"], [1.0, \"#f0f921\"]], \"type\": \"heatmapgl\"}], \"histogram\": [{\"marker\": {\"colorbar\": {\"outlinewidth\": 0, \"ticks\": \"\"}}, \"type\": \"histogram\"}], \"histogram2d\": [{\"colorbar\": {\"outlinewidth\": 0, \"ticks\": \"\"}, \"colorscale\": [[0.0, \"#0d0887\"], [0.1111111111111111, \"#46039f\"], [0.2222222222222222, \"#7201a8\"], [0.3333333333333333, \"#9c179e\"], [0.4444444444444444, \"#bd3786\"], [0.5555555555555556, \"#d8576b\"], [0.6666666666666666, \"#ed7953\"], [0.7777777777777778, \"#fb9f3a\"], [0.8888888888888888, \"#fdca26\"], [1.0, \"#f0f921\"]], \"type\": \"histogram2d\"}], \"histogram2dcontour\": [{\"colorbar\": {\"outlinewidth\": 0, \"ticks\": \"\"}, \"colorscale\": [[0.0, \"#0d0887\"], [0.1111111111111111, \"#46039f\"], [0.2222222222222222, \"#7201a8\"], [0.3333333333333333, \"#9c179e\"], [0.4444444444444444, \"#bd3786\"], [0.5555555555555556, \"#d8576b\"], [0.6666666666666666, \"#ed7953\"], [0.7777777777777778, \"#fb9f3a\"], [0.8888888888888888, \"#fdca26\"], [1.0, \"#f0f921\"]], \"type\": \"histogram2dcontour\"}], \"mesh3d\": [{\"colorbar\": {\"outlinewidth\": 0, \"ticks\": \"\"}, \"type\": \"mesh3d\"}], \"parcoords\": [{\"line\": {\"colorbar\": {\"outlinewidth\": 0, \"ticks\": \"\"}}, \"type\": \"parcoords\"}], \"pie\": [{\"automargin\": true, \"type\": \"pie\"}], \"scatter\": [{\"marker\": {\"colorbar\": {\"outlinewidth\": 0, \"ticks\": \"\"}}, \"type\": \"scatter\"}], \"scatter3d\": [{\"line\": {\"colorbar\": {\"outlinewidth\": 0, \"ticks\": \"\"}}, \"marker\": {\"colorbar\": {\"outlinewidth\": 0, \"ticks\": \"\"}}, \"type\": \"scatter3d\"}], \"scattercarpet\": [{\"marker\": {\"colorbar\": {\"outlinewidth\": 0, \"ticks\": \"\"}}, \"type\": \"scattercarpet\"}], \"scattergeo\": [{\"marker\": {\"colorbar\": {\"outlinewidth\": 0, \"ticks\": \"\"}}, \"type\": \"scattergeo\"}], \"scattergl\": [{\"marker\": {\"colorbar\": {\"outlinewidth\": 0, \"ticks\": \"\"}}, \"type\": \"scattergl\"}], \"scattermapbox\": [{\"marker\": {\"colorbar\": {\"outlinewidth\": 0, \"ticks\": \"\"}}, \"type\": \"scattermapbox\"}], \"scatterpolar\": [{\"marker\": {\"colorbar\": {\"outlinewidth\": 0, \"ticks\": \"\"}}, \"type\": \"scatterpolar\"}], \"scatterpolargl\": [{\"marker\": {\"colorbar\": {\"outlinewidth\": 0, \"ticks\": \"\"}}, \"type\": \"scatterpolargl\"}], \"scatterternary\": [{\"marker\": {\"colorbar\": {\"outlinewidth\": 0, \"ticks\": \"\"}}, \"type\": \"scatterternary\"}], \"surface\": [{\"colorbar\": {\"outlinewidth\": 0, \"ticks\": \"\"}, \"colorscale\": [[0.0, \"#0d0887\"], [0.1111111111111111, \"#46039f\"], [0.2222222222222222, \"#7201a8\"], [0.3333333333333333, \"#9c179e\"], [0.4444444444444444, \"#bd3786\"], [0.5555555555555556, \"#d8576b\"], [0.6666666666666666, \"#ed7953\"], [0.7777777777777778, \"#fb9f3a\"], [0.8888888888888888, \"#fdca26\"], [1.0, \"#f0f921\"]], \"type\": \"surface\"}], \"table\": [{\"cells\": {\"fill\": {\"color\": \"#EBF0F8\"}, \"line\": {\"color\": \"white\"}}, \"header\": {\"fill\": {\"color\": \"#C8D4E3\"}, \"line\": {\"color\": \"white\"}}, \"type\": \"table\"}]}, \"layout\": {\"annotationdefaults\": {\"arrowcolor\": \"#2a3f5f\", \"arrowhead\": 0, \"arrowwidth\": 1}, \"autotypenumbers\": \"strict\", \"coloraxis\": {\"colorbar\": {\"outlinewidth\": 0, \"ticks\": \"\"}}, \"colorscale\": {\"diverging\": [[0, \"#8e0152\"], [0.1, \"#c51b7d\"], [0.2, \"#de77ae\"], [0.3, \"#f1b6da\"], [0.4, \"#fde0ef\"], [0.5, \"#f7f7f7\"], [0.6, \"#e6f5d0\"], [0.7, \"#b8e186\"], [0.8, \"#7fbc41\"], [0.9, \"#4d9221\"], [1, \"#276419\"]], \"sequential\": [[0.0, \"#0d0887\"], [0.1111111111111111, \"#46039f\"], [0.2222222222222222, \"#7201a8\"], [0.3333333333333333, \"#9c179e\"], [0.4444444444444444, \"#bd3786\"], [0.5555555555555556, \"#d8576b\"], [0.6666666666666666, \"#ed7953\"], [0.7777777777777778, \"#fb9f3a\"], [0.8888888888888888, \"#fdca26\"], [1.0, \"#f0f921\"]], \"sequentialminus\": [[0.0, \"#0d0887\"], [0.1111111111111111, \"#46039f\"], [0.2222222222222222, \"#7201a8\"], [0.3333333333333333, \"#9c179e\"], [0.4444444444444444, \"#bd3786\"], [0.5555555555555556, \"#d8576b\"], [0.6666666666666666, \"#ed7953\"], [0.7777777777777778, \"#fb9f3a\"], [0.8888888888888888, \"#fdca26\"], [1.0, \"#f0f921\"]]}, \"colorway\": [\"#636efa\", \"#EF553B\", \"#00cc96\", \"#ab63fa\", \"#FFA15A\", \"#19d3f3\", \"#FF6692\", \"#B6E880\", \"#FF97FF\", \"#FECB52\"], \"font\": {\"color\": \"#2a3f5f\"}, \"geo\": {\"bgcolor\": \"white\", \"lakecolor\": \"white\", \"landcolor\": \"#E5ECF6\", \"showlakes\": true, \"showland\": true, \"subunitcolor\": \"white\"}, \"hoverlabel\": {\"align\": \"left\"}, \"hovermode\": \"closest\", \"mapbox\": {\"style\": \"light\"}, \"paper_bgcolor\": \"white\", \"plot_bgcolor\": \"#E5ECF6\", \"polar\": {\"angularaxis\": {\"gridcolor\": \"white\", \"linecolor\": \"white\", \"ticks\": \"\"}, \"bgcolor\": \"#E5ECF6\", \"radialaxis\": {\"gridcolor\": \"white\", \"linecolor\": \"white\", \"ticks\": \"\"}}, \"scene\": {\"xaxis\": {\"backgroundcolor\": \"#E5ECF6\", \"gridcolor\": \"white\", \"gridwidth\": 2, \"linecolor\": \"white\", \"showbackground\": true, \"ticks\": \"\", \"zerolinecolor\": \"white\"}, \"yaxis\": {\"backgroundcolor\": \"#E5ECF6\", \"gridcolor\": \"white\", \"gridwidth\": 2, \"linecolor\": \"white\", \"showbackground\": true, \"ticks\": \"\", \"zerolinecolor\": \"white\"}, \"zaxis\": {\"backgroundcolor\": \"#E5ECF6\", \"gridcolor\": \"white\", \"gridwidth\": 2, \"linecolor\": \"white\", \"showbackground\": true, \"ticks\": \"\", \"zerolinecolor\": \"white\"}}, \"shapedefaults\": {\"line\": {\"color\": \"#2a3f5f\"}}, \"ternary\": {\"aaxis\": {\"gridcolor\": \"white\", \"linecolor\": \"white\", \"ticks\": \"\"}, \"baxis\": {\"gridcolor\": \"white\", \"linecolor\": \"white\", \"ticks\": \"\"}, \"bgcolor\": \"#E5ECF6\", \"caxis\": {\"gridcolor\": \"white\", \"linecolor\": \"white\", \"ticks\": \"\"}}, \"title\": {\"x\": 0.05}, \"xaxis\": {\"automargin\": true, \"gridcolor\": \"white\", \"linecolor\": \"white\", \"ticks\": \"\", \"title\": {\"standoff\": 15}, \"zerolinecolor\": \"white\", \"zerolinewidth\": 2}, \"yaxis\": {\"automargin\": true, \"gridcolor\": \"white\", \"linecolor\": \"white\", \"ticks\": \"\", \"title\": {\"standoff\": 15}, \"zerolinecolor\": \"white\", \"zerolinewidth\": 2}}}, \"title\": {\"text\": \"Traffic Accident Rate vs. Average Daily Traffic in Minnesota\"}, \"xaxis\": {\"anchor\": \"y\", \"domain\": [0.0, 1.0], \"title\": {\"text\": \"Average Daily Traffic Count (in Thousands)\"}}, \"yaxis\": {\"anchor\": \"x\", \"domain\": [0.0, 1.0], \"title\": {\"text\": \"Accident Rate per Million Vehicle Miles\"}}},                        {\"responsive\": true}                    )                };                            </script>        </div>\n"
     ]
    }
   ],
   "source": [
    "import plotly\n",
    "print(plotly.offline.plot(accidents2, include_plotlyjs=False, output_type='div'))"
   ]
  },
  {
   "cell_type": "markdown",
   "metadata": {},
   "source": [
    "This dataset describes the accidents per million vehicle miles from 39 sections of large highways in Minnesota in 1973. The data also includes other factors, such as lane width, speed limit, average daily traffic count, number of lanes, and the width of the outer shoulder as possible links to accident rate. It was downloaded from the [Rdatasets](https://vincentarelbundock.github.io/Rdatasets/articles/data.html) website. \n",
    "\n",
    "In the above visualization, it appears that the accident rate is actually higher when the average daily traffic count is lower, with speed limits of around 50 mph and under actually having higher accident rates than speed limits above 50 mph."
   ]
  }
 ],
 "metadata": {
  "kernelspec": {
   "display_name": "Python 3",
   "language": "python",
   "name": "python3"
  },
  "language_info": {
   "codemirror_mode": {
    "name": "ipython",
    "version": 3
   },
   "file_extension": ".py",
   "mimetype": "text/x-python",
   "name": "python",
   "nbconvert_exporter": "python",
   "pygments_lexer": "ipython3",
   "version": "3.8.8"
  }
 },
 "nbformat": 4,
 "nbformat_minor": 4
}
